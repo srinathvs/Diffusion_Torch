{
 "cells": [
  {
   "cell_type": "code",
   "id": "initial_id",
   "metadata": {
    "collapsed": true,
    "ExecuteTime": {
     "end_time": "2025-03-20T20:59:49.857209Z",
     "start_time": "2025-03-20T20:59:47.511749Z"
    }
   },
   "source": [
    "import torch\n",
    "import torch.nn as nn\n",
    "from torchvision import datasets, transforms\n",
    "import matplotlib.pyplot as plt\n",
    "from models.unet import UNet\n",
    "from tqdm import tqdm\n",
    "from torchsummary import summary\n",
    "import numpy as np\n",
    "from PIL import Image"
   ],
   "outputs": [],
   "execution_count": 1
  },
  {
   "metadata": {
    "ExecuteTime": {
     "end_time": "2025-03-20T20:59:51.316703Z",
     "start_time": "2025-03-20T20:59:49.863232Z"
    }
   },
   "cell_type": "code",
   "source": [
    "batch_size = 256\n",
    "print(torch.device)\n",
    "cifar10_train = datasets.CIFAR10(root='./data', train = True, download = True, transform = transforms.Compose([transforms.ToTensor()]))\n",
    "cifar10_test = datasets.CIFAR10(root='/.data', train = False, download = True, transform = transforms.Compose([transforms.ToTensor()]))\n",
    "\n",
    "train_loader_pytorch = torch.utils.data.DataLoader(dataset=cifar10_train, batch_size=batch_size, shuffle=True)\n",
    "test_loader_pytorch = torch.utils.data.DataLoader(dataset = cifar10_test, batch_size = batch_size, shuffle = False)\n",
    "\n",
    "\n",
    "def sample_batch(train_data, batch_size = 64, device = 'cuda'):\n",
    "    # Get a batch of data\n",
    "\n",
    "    data_iter = iter(train_data)\n",
    "    images, labels = next(data_iter)\n",
    "\n",
    "    # Normalize and resize the images\n",
    "    transform = transforms.Compose([\n",
    "        transforms.Resize((32, 32)),\n",
    "        transforms.Normalize((0.5,), (0.5,))\n",
    "    ])\n",
    "\n",
    "    # Apply the transformation to each image\n",
    "    images = torch.stack([transform(image) for image in images])\n",
    "\n",
    "    # Move the data to the specified device\n",
    "    images = images.to(device)\n",
    "    numpy_images = [image.cpu().numpy() for image in images]\n",
    "\n",
    "    return images\n",
    "\n",
    "\n",
    "\n",
    "\n",
    "plt.figure(figsize=(15, 3))\n",
    "\n",
    "for i, (images, labels) in enumerate(train_loader_pytorch):\n",
    "    if i < 5:\n",
    "        plt.subplot(1, 5, i + 1)\n",
    "        # Convert the image tensor to a NumPy array and transpose dimensions\n",
    "        img = images[0].permute(1, 2, 0).numpy()\n",
    "        plt.imshow(img)\n",
    "        plt.title(labels[0].item())\n",
    "        plt.axis('off')\n",
    "    else:\n",
    "        break\n",
    "\n",
    "plt.tight_layout()"
   ],
   "id": "57d2eb6a28584429",
   "outputs": [
    {
     "name": "stdout",
     "output_type": "stream",
     "text": [
      "<class 'torch.device'>\n",
      "Files already downloaded and verified\n",
      "Files already downloaded and verified\n"
     ]
    },
    {
     "data": {
      "text/plain": [
       "<Figure size 1500x300 with 5 Axes>"
      ],
      "image/png": "[encoded data removed]"
     },
     "metadata": {},
     "output_type": "display_data"
    }
   ],
   "execution_count": 2
  },
  {
   "metadata": {
    "ExecuteTime": {
     "end_time": "2025-03-21T04:49:32.091468Z",
     "start_time": "2025-03-21T01:11:42.611664Z"
    }
   },
   "cell_type": "code",
   "source": [
    "class DiffusionModel():\n",
    "\n",
    "    def __init__(self, T: int, model: nn.Module, device: str):\n",
    "        self.T = T\n",
    "        self.function_approximator = model.to(device)\n",
    "        self.device = device\n",
    "\n",
    "        self.beta = torch.linspace(1e-4, 0.02, T).to(device)\n",
    "        self.alpha = 1. - self.beta\n",
    "        self.alpha_bar = torch.cumprod(self.alpha, dim=0)\n",
    "\n",
    "    def training(self, batch_size, optimizer):\n",
    "        \"\"\"\n",
    "        Algorithm 1 in Denoising Diffusion Probabilistic Models\n",
    "        \"\"\"\n",
    "\n",
    "        x0 = sample_batch(train_loader_pytorch, batch_size, self.device)\n",
    "\n",
    "        t = torch.randint(1, self.T + 1, (batch_size,), device=self.device, dtype=torch.long)\n",
    "\n",
    "        eps = torch.randn_like(x0)\n",
    "\n",
    "\n",
    "\n",
    "        # Take one gradient descent step\n",
    "        alpha_bar_t = self.alpha_bar[t - 1].unsqueeze(-1).unsqueeze(-1).unsqueeze(-1)\n",
    "\n",
    "        eps_predicted = self.function_approximator(torch.sqrt(\n",
    "            alpha_bar_t) * x0 + torch.sqrt(1 - alpha_bar_t) * eps, t - 1)\n",
    "\n",
    "        loss = nn.functional.mse_loss(eps, eps_predicted)\n",
    "        optimizer.zero_grad()\n",
    "        loss.backward()\n",
    "        optimizer.step()\n",
    "\n",
    "        return loss.item()\n",
    "\n",
    "    @torch.no_grad()\n",
    "    def sampling(self, n_samples=1, image_channels=3, img_size=(32, 32), use_tqdm=False):\n",
    "        x = torch.randn((n_samples, image_channels, img_size[0], img_size[1]),\n",
    "                        device=self.device)\n",
    "\n",
    "\n",
    "        for t in range(self.T, 0, -1):\n",
    "            z = torch.randn_like(x) if t > 1 else torch.zeros_like(x)\n",
    "\n",
    "            t = torch.ones(n_samples, dtype=torch.long, device=self.device) * t\n",
    "\n",
    "            beta_t = self.beta[t - 1].unsqueeze(-1).unsqueeze(-1).unsqueeze(-1)\n",
    "            alpha_t = self.alpha[t - 1].unsqueeze(-1).unsqueeze(-1).unsqueeze(-1)\n",
    "            alpha_bar_t = self.alpha_bar[t - 1].unsqueeze(-1).unsqueeze(-1).unsqueeze(-1)\n",
    "\n",
    "            mean = 1 / torch.sqrt(alpha_t) * (x - ((1 - alpha_t) / torch.sqrt(\n",
    "                1 - alpha_bar_t)) * self.function_approximator(x, t - 1))\n",
    "            sigma = torch.sqrt(beta_t)\n",
    "            x = mean + sigma * z\n",
    "\n",
    "        return x\n",
    "\n",
    "\n",
    "device = 'cuda'\n",
    "\n",
    "\n",
    "model = UNet()\n",
    "\n",
    "\n",
    "optimizer = torch.optim.Adam(model.parameters(), lr=2e-5)\n",
    "\n",
    "diffusion_model = DiffusionModel(1000, model, device)\n",
    "training_loss = []\n",
    "\n",
    "for epoch in tqdm(range(40_001)):\n",
    "    loss = diffusion_model.training(batch_size, optimizer)\n",
    "    training_loss.append(loss)\n",
    "\n",
    "    # if epoch % 1000 == 0:\n",
    "    #     plt.plot(training_loss)\n",
    "    #     plt.savefig('training_loss.png')\n",
    "    #     plt.close()\n",
    "    #\n",
    "    #     plt.plot(training_loss[-1000:])\n",
    "    #     plt.savefig('training_loss_cropped.png')\n",
    "    #     plt.close()\n",
    "\n",
    "    if epoch % 5000 == 0:\n",
    "        nb_images = 64\n",
    "        samples = diffusion_model.sampling(n_samples=nb_images, use_tqdm=False)\n",
    "        plt.figure(figsize=(10, 10))\n",
    "        for i in range(nb_images):\n",
    "            plt.subplot(8, 8, 1 + i)\n",
    "            plt.axis('off')\n",
    "            plt.imshow(samples[i].permute(1, 2, 0).clip(0, 1).data.cpu().numpy())\n",
    "        plt.savefig(f'figs/samples_epoch_{epoch}.png')\n",
    "        plt.close()\n",
    "\n",
    "        torch.save(model.cpu(), f'weights/unet_denoiser_{epoch}')\n",
    "        model.cuda()\n",
    "\n",
    "# samples = diffusion_model.sampling(n_samples=nb_images, use_tqdm=True)\n",
    "# plt.figure(figsize=(17, 17))\n",
    "# for i in range(nb_images):\n",
    "#     plt.subplot(9, 9, 1 + i)\n",
    "#     plt.axis('off')\n",
    "#     plt.imshow(samples[i].squeeze(0).clip(0, 1).data.cpu().numpy(), cmap='gray')\n",
    "# plt.savefig(f'samples_epoch_{epoch}.png')\n",
    "# plt.close()\n",
    "\n",
    "torch.save(model.cpu(), f'weights/diffusion_cifar10_{epoch}')\n"
   ],
   "id": "2d27c2965605ca26",
   "outputs": [
    {
     "name": "stderr",
     "output_type": "stream",
     "text": [
      "100%|██████████| 40001/40001 [3:37:49<00:00,  3.06it/s]    \n"
     ]
    }
   ],
   "execution_count": 4
  },
  {
   "metadata": {
    "ExecuteTime": {
     "end_time": "2025-03-21T00:14:53.959497Z",
     "start_time": "2025-03-21T00:14:53.957034Z"
    }
   },
   "cell_type": "code",
   "source": "",
   "id": "8b0bcf7f18819d88",
   "outputs": [],
   "execution_count": null
  }
 ],
 "metadata": {
  "kernelspec": {
   "display_name": "Python 3",
   "language": "python",
   "name": "python3"
  },
  "language_info": {
   "codemirror_mode": {
    "name": "ipython",
    "version": 2
   },
   "file_extension": ".py",
   "mimetype": "text/x-python",
   "name": "python",
   "nbconvert_exporter": "python",
   "pygments_lexer": "ipython2",
   "version": "2.7.6"
  }
 },
 "nbformat": 4,
 "nbformat_minor": 5
}
